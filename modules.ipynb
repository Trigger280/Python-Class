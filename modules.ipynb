{
 "cells": [
  {
   "cell_type": "code",
   "execution_count": 2,
   "id": "4b7535b7-7256-4ddf-9a3a-bb65c6feac54",
   "metadata": {},
   "outputs": [],
   "source": [
    "#WAP that displays current time and pause for 2 seconds and display current time \n",
    "#WAP that takes directory location from user and returns a list that contains all the files in that location you can use os module to perform these actions."
   ]
  },
  {
   "cell_type": "code",
   "execution_count": null,
   "id": "fe20a8c0-6d4e-41df-aedb-312358cd1856",
   "metadata": {},
   "outputs": [],
   "source": [
    "import time\n",
    "\n",
    "Get the current time\n",
    "\n",
    "current_time=time.time()\n",
    "print(\"Curren time(in seconds since Epoch):\", current_time)\n",
    "\n",
    "print(\""
   ]
  }
 ],
 "metadata": {
  "kernelspec": {
   "display_name": "Python 3 (ipykernel)",
   "language": "python",
   "name": "python3"
  },
  "language_info": {
   "codemirror_mode": {
    "name": "ipython",
    "version": 3
   },
   "file_extension": ".py",
   "mimetype": "text/x-python",
   "name": "python",
   "nbconvert_exporter": "python",
   "pygments_lexer": "ipython3",
   "version": "3.12.5"
  }
 },
 "nbformat": 4,
 "nbformat_minor": 5
}

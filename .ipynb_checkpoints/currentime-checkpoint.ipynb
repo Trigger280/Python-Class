{
 "cells": [
  {
   "cell_type": "code",
   "execution_count": null,
   "id": "cac857ad-746d-4df1-9222-8cf5a322553e",
   "metadata": {},
   "outputs": [],
   "source": [
    "#WAP that displays current time and pause for 2 seconds and display current time \n",
    "#WAP that takes directory location from user and returns a list that contains all the files in that location you can use os module to perform these actions."
   ]
  },
  {
   "cell_type": "code",
   "execution_count": 1,
   "id": "2eff47df-85d5-4023-965c-69fb54c5eaa8",
   "metadata": {},
   "outputs": [
    {
     "name": "stdout",
     "output_type": "stream",
     "text": [
      "Current Time: 15:10:46\n",
      "Current Time: 15:10:48\n"
     ]
    }
   ],
   "source": [
    "import time\n",
    "from datetime import datetime\n",
    "\n",
    "def display_current_time():\n",
    "    current_time = datetime.now().strftime(\"%H:%M:%S\")\n",
    "    print(\"Current Time:\", current_time)\n",
    "\n",
    "display_current_time()\n",
    "time.sleep(2)\n",
    "display_current_time()"
   ]
  },
  {
   "cell_type": "code",
   "execution_count": 2,
   "id": "599f07fe-d63e-415a-8179-346ee8ced31b",
   "metadata": {},
   "outputs": [
    {
     "name": "stderr",
     "output_type": "stream",
     "text": [
      "\n",
      "KeyboardInterrupt\n",
      "\n"
     ]
    },
    {
     "name": "stdin",
     "output_type": "stream",
     "text": [
      "Please enter the directory path:  j\n"
     ]
    }
   ],
   "source": [
    "import os\n",
    "\n",
    "def list_files_in_directory():\n",
    "    # Get directory path from the user\n",
    "    directory = input(\"Please enter the directory path: \")\n",
    "\n",
    "    # Check if the directory exists\n",
    "    if not os.path.isdir(directory):\n",
    "        print(f\"The directory '{directory}' does not exist.\")\n",
    "        return\n",
    "\n",
    "    # List all files in the directory\n",
    "    files = []\n",
    "    for item in os.listdir(directory):\n",
    "        item_path = os.path.join(directory, item)\n",
    "        if os.path.isfile(item_path):\n",
    "            files.append(item)\n",
    "\n",
    "    if files:\n",
    "        print(\"Files in the directory:\")\n",
    "        for file in files:\n",
    "            print(file)\n",
    "    else:\n",
    "        print(\"No files found in the directory.\")\n",
    "\n",
    "    return files\n",
    "\n",
    "# Call the function\n",
    "list_files_in_directory()\n"
   ]
  },
  {
   "cell_type": "code",
   "execution_count": null,
   "id": "fd0c7ada-6d5d-48c9-999e-6214d4223960",
   "metadata": {},
   "outputs": [],
   "source": []
  }
 ],
 "metadata": {
  "kernelspec": {
   "display_name": "Python 3 (ipykernel)",
   "language": "python",
   "name": "python3"
  },
  "language_info": {
   "codemirror_mode": {
    "name": "ipython",
    "version": 3
   },
   "file_extension": ".py",
   "mimetype": "text/x-python",
   "name": "python",
   "nbconvert_exporter": "python",
   "pygments_lexer": "ipython3",
   "version": "3.12.5"
  }
 },
 "nbformat": 4,
 "nbformat_minor": 5
}

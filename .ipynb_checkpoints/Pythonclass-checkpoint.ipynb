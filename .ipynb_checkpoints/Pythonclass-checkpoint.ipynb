{
 "cells": [
  {
   "cell_type": "code",
   "execution_count": null,
   "id": "486d8dce-f096-4f46-a531-4636ac5f421e",
   "metadata": {},
   "outputs": [],
   "source": [
    "#Q. WAP that takes list of SAP ID's and returns a list of email address\n",
    "\n",
    "#input \n",
    "list=[123,\"234\"]\n",
    "#output\n",
    "res=[\"123@stu.upes.ac.in\",\"234@stu.ups.ac.in\"]\n",
    "\n",
    "#1 without using map, filter lambda or list comprehension\n",
    "#2 Using map filter , lambda, lambda without using list comprehesnion\n",
    "#3 Using list comprehension"
   ]
  },
  {
   "cell_type": "code",
   "execution_count": null,
   "id": "85809bc2-24c2-4d06-b7df-8f13b80b0153",
   "metadata": {},
   "outputs": [],
   "source": [
    "#1\n"
   ]
  },
  {
   "cell_type": "code",
   "execution_count": null,
   "id": "90c760bf-41d2-4f14-a456-271393fd6e24",
   "metadata": {},
   "outputs": [],
   "source": [
    "#2\n"
   ]
  },
  {
   "cell_type": "code",
   "execution_count": null,
   "id": "b84d63ed-230c-429d-8529-282ae6f29d48",
   "metadata": {},
   "outputs": [],
   "source": [
    "#3\n",
    "res=[f\"{id}@stu.upes.ac.in\" for id in sap_ids]\n",
    "\n",
    "print(sap_ids)\n",
    "print(res)"
   ]
  }
 ],
 "metadata": {
  "kernelspec": {
   "display_name": "Python 3 (ipykernel)",
   "language": "python",
   "name": "python3"
  },
  "language_info": {
   "codemirror_mode": {
    "name": "ipython",
    "version": 3
   },
   "file_extension": ".py",
   "mimetype": "text/x-python",
   "name": "python",
   "nbconvert_exporter": "python",
   "pygments_lexer": "ipython3",
   "version": "3.12.5"
  }
 },
 "nbformat": 4,
 "nbformat_minor": 5
}

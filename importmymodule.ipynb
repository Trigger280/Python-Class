{
 "cells": [
  {
   "cell_type": "code",
   "execution_count": 1,
   "id": "e954a476-3a24-4621-9bae-12cdc5b52b96",
   "metadata": {},
   "outputs": [
    {
     "data": {
      "text/plain": [
       "3.14"
      ]
     },
     "execution_count": 1,
     "metadata": {},
     "output_type": "execute_result"
    }
   ],
   "source": [
    "import mymodule\n",
    "mymodule.PI"
   ]
  },
  {
   "cell_type": "code",
   "execution_count": 2,
   "id": "d49c31d8-ce43-41b5-9f5f-e718d06a57f3",
   "metadata": {},
   "outputs": [
    {
     "data": {
      "text/plain": [
       "3.14"
      ]
     },
     "execution_count": 2,
     "metadata": {},
     "output_type": "execute_result"
    }
   ],
   "source": [
    "from mymodule import PI,myadd\n",
    "from mymodule import PI\n",
    "\n",
    "PI"
   ]
  },
  {
   "cell_type": "code",
   "execution_count": 4,
   "id": "ac7dda6e-0eea-4ed1-a60d-c51eaa9157fd",
   "metadata": {},
   "outputs": [
    {
     "data": {
      "text/plain": [
       "3.14"
      ]
     },
     "execution_count": 4,
     "metadata": {},
     "output_type": "execute_result"
    }
   ],
   "source": [
    "from mymodule import PI as pi1\n",
    "pi1"
   ]
  },
  {
   "cell_type": "code",
   "execution_count": 5,
   "id": "ed7a44fd-9a13-44e2-8334-5d82d1cc839a",
   "metadata": {},
   "outputs": [
    {
     "data": {
      "text/plain": [
       "3.14"
      ]
     },
     "execution_count": 5,
     "metadata": {},
     "output_type": "execute_result"
    }
   ],
   "source": [
    "import mymodule as m1\n",
    "m1.PI"
   ]
  },
  {
   "cell_type": "code",
   "execution_count": null,
   "id": "5f0dfd5e-8d50-417f-8391-12e4f36a4893",
   "metadata": {},
   "outputs": [],
   "source": []
  }
 ],
 "metadata": {
  "kernelspec": {
   "display_name": "Python 3 (ipykernel)",
   "language": "python",
   "name": "python3"
  },
  "language_info": {
   "codemirror_mode": {
    "name": "ipython",
    "version": 3
   },
   "file_extension": ".py",
   "mimetype": "text/x-python",
   "name": "python",
   "nbconvert_exporter": "python",
   "pygments_lexer": "ipython3",
   "version": "3.12.5"
  }
 },
 "nbformat": 4,
 "nbformat_minor": 5
}
